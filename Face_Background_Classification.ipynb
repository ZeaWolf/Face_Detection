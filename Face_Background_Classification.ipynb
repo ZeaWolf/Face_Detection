{
 "cells": [
  {
   "cell_type": "code",
   "execution_count": 1,
   "id": "3976a27d",
   "metadata": {},
   "outputs": [],
   "source": [
    "# Chengzhi Dong\n",
    "# 112890166\n",
    "# CSE 353 "
   ]
  },
  {
   "cell_type": "code",
   "execution_count": 2,
   "id": "98b7d4f1",
   "metadata": {},
   "outputs": [],
   "source": [
    "#!pip install opencv-python\n",
    "import cv2\n",
    "import numpy as  np\n",
    "import matplotlib.pyplot as plt\n",
    "import os"
   ]
  },
  {
   "cell_type": "code",
   "execution_count": 3,
   "id": "01eeb4d5",
   "metadata": {},
   "outputs": [],
   "source": [
    "# function to calculated the motified log normal distribution for comparison\n",
    "def logNorm(x, mean, sigma, dim):\n",
    "    base = 0\n",
    "    exp = 0\n",
    "    for d in range(dim):\n",
    "        base += np.log(sigma[d][d])\n",
    "        exp += np.power(x[d] - mean[d], 2) / sigma[d][d]\n",
    "    base *= -0.5\n",
    "    exp *= -0.5\n",
    "    ans = base + exp\n",
    "    return ans"
   ]
  },
  {
   "cell_type": "code",
   "execution_count": 4,
   "id": "a9a46f74",
   "metadata": {},
   "outputs": [],
   "source": [
    "### data directory\n",
    "trainFace = 'trainingData/face'\n",
    "trainBackground = 'trainingData/background'\n",
    "trainingFaceImages = os.listdir(trainFace)\n",
    "trainingBackgroundImages = os.listdir(trainBackground)\n",
    "testFace = 'testingData/face'\n",
    "testBackground = 'testingData/background'\n",
    "testingFaceImages = os.listdir(testFace)\n",
    "testingBackgroundImages = os.listdir(testBackground)\n",
    "# D = 20rows x 15cols x 3 RGB = 900 (size of the matrix)\n",
    "nDim = 900"
   ]
  },
  {
   "cell_type": "code",
   "execution_count": 5,
   "id": "3fed5dc7",
   "metadata": {},
   "outputs": [
    {
     "data": {
      "text/plain": [
       "(-0.5, 14.5, 19.5, -0.5)"
      ]
     },
     "execution_count": 5,
     "metadata": {},
     "output_type": "execute_result"
    },
    {
     "data": {
      "image/png": "[encoded data removed]",
      "text/plain": [
       "<Figure size 1296x432 with 1 Axes>"
      ]
     },
     "metadata": {
      "needs_background": "light"
     },
     "output_type": "display_data"
    }
   ],
   "source": [
    "### Calculate the mean for face class\n",
    "faceMean = np.zeros((nDim, 1)) # 900 x 1 matrix for mean of face class\n",
    "faceImgCount = 0 # count the number of face images\n",
    "\n",
    "# loop the images in training face folder\n",
    "for iFile in trainingFaceImages:\n",
    "    ### Load the training faces\n",
    "    faceImgCount += 1\n",
    "    faceImg = cv2.imread(trainFace+'/'+str(iFile))\n",
    "    nfrows, nfcols = faceImg.shape[0], faceImg.shape[1]\n",
    "    for i in range(nfrows):\n",
    "        for j in range(nfcols):\n",
    "            # get the BGR values (Opencv) of each pixel of this image\n",
    "            B = faceImg[i][j][0]\n",
    "            G = faceImg[i][j][1] \n",
    "            R = faceImg[i][j][2]\n",
    "            \n",
    "            # store the values in order of RGB in face mean array\n",
    "            faceMean[(i*nfcols)+j][0] += R\n",
    "            faceMean[(i*nfcols)+j+(nfrows*nfcols)][0] += G\n",
    "            faceMean[(i*nfcols)+j+(2*nfrows*nfcols)][0] += B\n",
    "\n",
    "# divide by number of face image to get the mean\n",
    "for i in range(nDim):\n",
    "    faceMean[i][0] /= faceImgCount\n",
    "    \n",
    "# Uncomment to print the face mean array\n",
    "# print(faceMean)\n",
    "\n",
    "# Convert the face mean array into BGR array for visualization\n",
    "sample1 = np.zeros((nfrows, nfcols, 3))\n",
    "for i in range(nfrows):\n",
    "        for j in range(nfcols):\n",
    "            sample1[i][j][0] = int(faceMean[(i*nfcols)+j+(2*nfrows*nfcols)][0])\n",
    "            sample1[i][j][1] = int(faceMean[(i*nfcols)+j+(nfrows*nfcols)][0])\n",
    "            sample1[i][j][2] = int(faceMean[(i*nfcols)+j][0])\n",
    "\n",
    "# visualize the face mean\n",
    "sample1 = sample1.astype(np.uint8)\n",
    "plt.figure(figsize=(18, 6))\n",
    "plt.subplot(1, 3, 1)\n",
    "plt.imshow(cv2.cvtColor(sample1, cv2.COLOR_BGR2RGB))\n",
    "plt.title('Face Mean')\n",
    "plt.axis(\"off\")"
   ]
  },
  {
   "cell_type": "code",
   "execution_count": 6,
   "id": "022c02fa",
   "metadata": {},
   "outputs": [
    {
     "data": {
      "text/plain": [
       "(-0.5, 14.5, 19.5, -0.5)"
      ]
     },
     "execution_count": 6,
     "metadata": {},
     "output_type": "execute_result"
    },
    {
     "data": {
      "image/png": "[encoded data removed]",
      "text/plain": [
       "<Figure size 1296x432 with 1 Axes>"
      ]
     },
     "metadata": {
      "needs_background": "light"
     },
     "output_type": "display_data"
    }
   ],
   "source": [
    "### Calculate the Sigma (covariance matrix) for face class\n",
    "faceSigma = np.zeros((nDim, nDim)) # 900 x 900 matrix Sigma of face class\n",
    "faceImgCount = 0 # count number of face images\n",
    "\n",
    "# loop the images in training face folder\n",
    "for iFile in trainingFaceImages:\n",
    "    ### Load the training faces\n",
    "    faceImgCount += 1\n",
    "    faceImg = cv2.imread(trainFace+'/'+str(iFile))\n",
    "    nfrows, nfcols = faceImg.shape[0], faceImg.shape[1]\n",
    "    temp = np.zeros((nDim, 1))\n",
    "    for i in range(nfrows):\n",
    "        for j in range(nfcols):\n",
    "            # get the BGR values (Opencv) of each pixel of this image\n",
    "            B = faceImg[i][j][0]\n",
    "            G = faceImg[i][j][1] \n",
    "            R = faceImg[i][j][2]\n",
    "            \n",
    "            # store \"x_i - u\" in a temporary array \n",
    "            temp[(i*nfcols)+j][0] = R - faceMean[(i*nfcols)+j][0]\n",
    "            temp[(i*nfcols)+j+(nfrows*nfcols)][0] = G - faceMean[(i*nfcols)+j+(nfrows*nfcols)][0]\n",
    "            temp[(i*nfcols)+j+(2*nfrows*nfcols)][0] = B - faceMean[(i*nfcols)+j+(2*nfrows*nfcols)][0]\n",
    "\n",
    "    \n",
    "    # adding sum of (x_i - u)^2 into the face Sigma array \n",
    "    for d in range(nDim):\n",
    "        faceSigma[d][d] += temp[d][0] * temp[d][0]\n",
    "\n",
    "# divide by the number of face image to get the covariance\n",
    "for d in range(nDim):\n",
    "        faceSigma[d][d] /= faceImgCount\n",
    "\n",
    "# Uncomment to print the face covariance array       \n",
    "# print(faceSigma)\n",
    "\n",
    "# Convert the face covariance array into BGR array for visualization\n",
    "face_max = 0\n",
    "sample2 = np.zeros((nfrows, nfcols, 3))\n",
    "for i in range(nfrows):\n",
    "        for j in range(nfcols):\n",
    "            sample2[i][j][0] = int(faceSigma[(i*nfcols)+j+(2*nfrows*nfcols)][(i*nfcols)+j+(2*nfrows*nfcols)]) \n",
    "            sample2[i][j][1] = int(faceSigma[(i*nfcols)+j+(nfrows*nfcols)][(i*nfcols)+j+(nfrows*nfcols)]) \n",
    "            sample2[i][j][2] = int(faceSigma[(i*nfcols)+j][(i*nfcols)+j]) \n",
    "            temp_max = max(sample2[i][j][0], sample2[i][j][1], sample2[i][j][2])\n",
    "            if(temp_max > face_max):\n",
    "                face_max=temp_max\n",
    "\n",
    "# change the scale of each value to [0-255]\n",
    "for i in range(nfrows):\n",
    "        for j in range(nfcols):\n",
    "            sample2[i][j][0] = (sample2[i][j][0] / face_max) *255 \n",
    "            sample2[i][j][1] = (sample2[i][j][1] / face_max) *255 \n",
    "            sample2[i][j][2] = (sample2[i][j][2] / face_max) *255 \n",
    "            \n",
    "# visualize the face Sigma\n",
    "sample2=sample2.astype(np.uint8)\n",
    "plt.figure(figsize=(18, 6))\n",
    "plt.subplot(1, 3, 1)\n",
    "plt.imshow(cv2.cvtColor(sample2, cv2.COLOR_BGR2RGB))\n",
    "plt.title('Face Covariance')\n",
    "plt.axis(\"off\")"
   ]
  },
  {
   "cell_type": "code",
   "execution_count": 7,
   "id": "216653f8",
   "metadata": {},
   "outputs": [
    {
     "data": {
      "text/plain": [
       "(-0.5, 14.5, 19.5, -0.5)"
      ]
     },
     "execution_count": 7,
     "metadata": {},
     "output_type": "execute_result"
    },
    {
     "data": {
      "image/png": "[encoded data removed]",
      "text/plain": [
       "<Figure size 1296x432 with 1 Axes>"
      ]
     },
     "metadata": {
      "needs_background": "light"
     },
     "output_type": "display_data"
    }
   ],
   "source": [
    "### Calculate the mean for background class\n",
    "bgMean = np.zeros((nDim, 1)) # 900 x 1 matrix for mean of background class\n",
    "bgImgCount = 0 # count the number of background images\n",
    "\n",
    "# loop the images in training background folder\n",
    "for iFile in trainingBackgroundImages:\n",
    "    ### Load the training backgrounds\n",
    "    bgImgCount += 1\n",
    "    bgImg = cv2.imread(trainBackground+'/'+str(iFile))\n",
    "    nbrows, nbcols = bgImg.shape[0], bgImg.shape[1]\n",
    "    for i in range(nbrows):\n",
    "        for j in range(nbcols):\n",
    "            # get the BGR values (Opencv) of each pixel of this image\n",
    "            B = bgImg[i][j][0]\n",
    "            G = bgImg[i][j][1] \n",
    "            R = bgImg[i][j][2]\n",
    "            \n",
    "            # store the values in order of RGB in background mean array\n",
    "            bgMean[(i*nbcols)+j][0] += R\n",
    "            bgMean[(i*nbcols)+j+(nbrows*nbcols)][0] += G\n",
    "            bgMean[(i*nbcols)+j+(2*nbrows*nbcols)][0] += B\n",
    "\n",
    "# divide by number of face image to get the mean\n",
    "for i in range(nDim):\n",
    "    bgMean[i][0] /= bgImgCount\n",
    "\n",
    "# Uncomment to print the background mean array\n",
    "# print(bgMean)\n",
    "\n",
    "\n",
    "# Convert the background mean array into BGR array for visualization\n",
    "sample3 = np.zeros((nbrows, nbcols, 3))\n",
    "for i in range(nfrows):\n",
    "        for j in range(nfcols):\n",
    "            sample3[i][j][0] = int(bgMean[(i*nfcols)+j+(2*nfrows*nfcols)][0])\n",
    "            sample3[i][j][1] = int(bgMean[(i*nfcols)+j+(nfrows*nfcols)][0])\n",
    "            sample3[i][j][2] = int(bgMean[(i*nfcols)+j][0])\n",
    "\n",
    "# visualize the background mean\n",
    "sample3=sample3.astype(np.uint8)\n",
    "plt.figure(figsize=(18, 6))\n",
    "plt.subplot(1, 3, 1)\n",
    "plt.imshow(cv2.cvtColor(sample3, cv2.COLOR_BGR2RGB))\n",
    "plt.title('Background Mean')\n",
    "plt.axis(\"off\")"
   ]
  },
  {
   "cell_type": "code",
   "execution_count": 8,
   "id": "982605a5",
   "metadata": {},
   "outputs": [
    {
     "data": {
      "text/plain": [
       "(-0.5, 14.5, 19.5, -0.5)"
      ]
     },
     "execution_count": 8,
     "metadata": {},
     "output_type": "execute_result"
    },
    {
     "data": {
      "image/png": "[encoded data removed]",
      "text/plain": [
       "<Figure size 1296x432 with 1 Axes>"
      ]
     },
     "metadata": {
      "needs_background": "light"
     },
     "output_type": "display_data"
    }
   ],
   "source": [
    "### Calculate the sigma for background class\n",
    "bgSigma = np.zeros((nDim, nDim)) # 900 x 900 matrix Sigma of background class\n",
    "bgImgCount = 0 # count number of face images\n",
    "\n",
    "# loop the images in training background folder\n",
    "for iFile in trainingBackgroundImages:\n",
    "    ### Load the training backgrounds\n",
    "    bgImgCount += 1\n",
    "    bgImg = cv2.imread(trainBackground+'/'+str(iFile))\n",
    "    nbrows, nbcols = bgImg.shape[0], bgImg.shape[1]\n",
    "    temp = np.zeros((nDim, 1))\n",
    "    for i in range(nbrows):\n",
    "        for j in range(nbcols):\n",
    "            # get the BGR values (Opencv) of each pixel of this image\n",
    "            B = bgImg[i][j][0]\n",
    "            G = bgImg[i][j][1] \n",
    "            R = bgImg[i][j][2]\n",
    "            \n",
    "            # store \"x_i - u\" in a temporary array \n",
    "            temp[(i*nbcols)+j][0] = R - bgMean[(i*nbcols)+j][0]\n",
    "            temp[(i*nbcols)+j+(nbrows*nbcols)][0] = G - bgMean[(i*nbcols)+j+(nbrows*nbcols)][0]\n",
    "            temp[(i*nbcols)+j+(2*nbrows*nbcols)][0] = B - bgMean[(i*nbcols)+j+(2*nbrows*nbcols)][0]\n",
    "            \n",
    "    # adding sum of (x_i - u)^2 into the face Sigma array \n",
    "    for d in range(nDim):\n",
    "        bgSigma[d][d] += temp[d][0] * temp[d][0]\n",
    "        \n",
    "# divide by the number of background image to get the covariance\n",
    "for d in range(nDim):\n",
    "        bgSigma[d][d] /= bgImgCount\n",
    "\n",
    "# Uncomment to print background Sigma array\n",
    "# print( bgSigma )\n",
    "\n",
    "# convert background sigma into BGR matrix for visualization\n",
    "bg_max = 0\n",
    "sample4 = np.zeros((nfrows, nfcols, 3))\n",
    "for i in range(nfrows):\n",
    "        for j in range(nfcols):\n",
    "            sample4[i][j][0] = int(bgSigma[(i*nfcols)+j+(2*nfrows*nfcols)][(i*nfcols)+j+(2*nfrows*nfcols)]) \n",
    "            sample4[i][j][1] = int(bgSigma[(i*nfcols)+j+(nfrows*nfcols)][(i*nfcols)+j+(nfrows*nfcols)]) \n",
    "            sample4[i][j][2] = int(bgSigma[(i*nfcols)+j][(i*nfcols)+j]) \n",
    "            temp_max = max(sample4[i][j][0], sample4[i][j][1], sample4[i][j][2])\n",
    "            if(temp_max > bg_max):\n",
    "                bg_max=temp_max\n",
    "\n",
    "# change the scale of each value to [0-255]\n",
    "for i in range(nfrows):\n",
    "        for j in range(nfcols):\n",
    "            sample4[i][j][0] = (sample4[i][j][0] / bg_max) *255 \n",
    "            sample4[i][j][1] = (sample4[i][j][1] / bg_max) *255 \n",
    "            sample4[i][j][2] = (sample4[i][j][2] / bg_max) *255 \n",
    "            \n",
    "# visualize the background Sigma\n",
    "sample4=sample4.astype(np.uint8)\n",
    "plt.figure(figsize=(18, 6))\n",
    "plt.subplot(1, 3, 1)\n",
    "plt.imshow(cv2.cvtColor(sample4, cv2.COLOR_BGR2RGB))\n",
    "plt.title('Background Covariance')\n",
    "plt.axis(\"off\")"
   ]
  },
  {
   "cell_type": "code",
   "execution_count": 9,
   "id": "467ac06a",
   "metadata": {},
   "outputs": [
    {
     "name": "stdout",
     "output_type": "stream",
     "text": [
      "Number of Correctly Classified Faces Images: 191\n",
      "Total Number of Face Images: 232\n",
      "Accuracy of Face Classification: 0.8232758620689655\n"
     ]
    }
   ],
   "source": [
    "### Testing Face Classification\n",
    "# faceMean, faceSigma, bgMean, bgSigma\n",
    "# logNorm(x, mean, sigma, dim)\n",
    "faceDetected = 0 # Number of Correctly Classified Faces Images\n",
    "totalFaceTest = 0 # Total Number of Face Images\n",
    "for iFile in testingFaceImages:\n",
    "    # Load the testing faces\n",
    "    testImg = cv2.imread(testFace+'/'+str(iFile))\n",
    "    nrows, ncols = testImg.shape[0], testImg.shape[1]\n",
    "    totalFaceTest += 1  \n",
    "    # create a temp 900 x 1 array to store RGB for calling logNorm(x, mean, sigma, dim) function\n",
    "    testMatrix = np.zeros((nDim, 1))\n",
    "    for i in range(nrows):\n",
    "        for j in range(ncols):\n",
    "            B = testImg[i][j][0]\n",
    "            G = testImg[i][j][1] \n",
    "            R = testImg[i][j][2]\n",
    "            \n",
    "            testMatrix [(i*ncols)+j][0] = R \n",
    "            testMatrix [(i*ncols)+j+(nrows*ncols)][0] = G \n",
    "            testMatrix [(i*ncols)+j+(2*nrows*ncols)][0] = B\n",
    "    \n",
    "    # classified as face if Norm_x[u_face, Sigma_face] is greater than Norm_x[u_bg, Sigma_bg]\n",
    "    if logNorm(testMatrix, faceMean, faceSigma, nDim) > logNorm(testMatrix, bgMean, bgSigma, nDim):\n",
    "        faceDetected += 1\n",
    "\n",
    "# Calculate Accuracy of Face Classification\n",
    "faceAccuracy = faceDetected / totalFaceTest\n",
    "\n",
    "print(\"Number of Correctly Classified Faces Images: \"+ str(faceDetected))\n",
    "print(\"Total Number of Face Images: \" + str(totalFaceTest))\n",
    "print(\"Accuracy of Face Classification: \"+str(faceAccuracy))"
   ]
  },
  {
   "cell_type": "code",
   "execution_count": 10,
   "id": "733c0ef7",
   "metadata": {},
   "outputs": [
    {
     "name": "stdout",
     "output_type": "stream",
     "text": [
      "Number of Correctly Classified Background Images: 421\n",
      "Total Number of Background Images: 564\n",
      "Accuracy of Background Classification: 0.7464539007092199\n"
     ]
    }
   ],
   "source": [
    "### Testing Background Classification\n",
    "# faceMean, faceSigma, bgMean, bgSigma\n",
    "# logNorm(x, mean, sigma, dim)\n",
    "backgroundDetected = 0 # Number of Correctly Classified Background Images\n",
    "totalBackgroundTest = 0 # Total Number of Face Images\n",
    "for iFile in testingBackgroundImages:\n",
    "    # Load the testing faces\n",
    "    testImg = cv2.imread(testBackground+'/'+str(iFile))\n",
    "    nrows, ncols = testImg.shape[0], testImg.shape[1]\n",
    "    totalBackgroundTest += 1 \n",
    "    # create a temp 900 x 1 array to store RGB for calling logNorm(x, mean, sigma, dim) function\n",
    "    testMatrix = np.zeros((nDim, 1))\n",
    "    for i in range(nrows):\n",
    "        for j in range(ncols):\n",
    "            B = testImg[i][j][0]\n",
    "            G = testImg[i][j][1] \n",
    "            R = testImg[i][j][2]\n",
    "            \n",
    "            testMatrix [(i*ncols)+j][0] = R \n",
    "            testMatrix [(i*ncols)+j+(nrows*ncols)][0] = G \n",
    "            testMatrix [(i*ncols)+j+(2*nrows*ncols)][0] = B   \n",
    "            \n",
    "    # classified as background if Norm_x[u_bg, Sigma_bg] is greater than Norm_x[u_face, Sigma_face]        \n",
    "    if logNorm(testMatrix, bgMean, bgSigma, nDim) > logNorm(testMatrix, faceMean, faceSigma, nDim):\n",
    "        backgroundDetected += 1\n",
    "\n",
    "# Calculate Accuracy of Background Classification\n",
    "backgroundAccuracy = backgroundDetected / totalBackgroundTest\n",
    "print(\"Number of Correctly Classified Background Images: \"+ str(backgroundDetected))\n",
    "print(\"Total Number of Background Images: \" + str(totalBackgroundTest))\n",
    "print(\"Accuracy of Background Classification: \"+str(backgroundAccuracy))"
   ]
  }
 ],
 "metadata": {
  "kernelspec": {
   "display_name": "Python 3",
   "language": "python",
   "name": "python3"
  },
  "language_info": {
   "codemirror_mode": {
    "name": "ipython",
    "version": 3
   },
   "file_extension": ".py",
   "mimetype": "text/x-python",
   "name": "python",
   "nbconvert_exporter": "python",
   "pygments_lexer": "ipython3",
   "version": "3.8.8"
  }
 },
 "nbformat": 4,
 "nbformat_minor": 5
}
